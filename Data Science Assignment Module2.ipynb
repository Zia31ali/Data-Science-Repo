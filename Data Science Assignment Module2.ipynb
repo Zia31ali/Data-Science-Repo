{
  "metadata": {
    "language_info": {
      "codemirror_mode": {
        "name": "python",
        "version": 3
      },
      "file_extension": ".py",
      "mimetype": "text/x-python",
      "name": "python",
      "nbconvert_exporter": "python",
      "pygments_lexer": "ipython3",
      "version": "3.8"
    },
    "kernelspec": {
      "name": "python",
      "display_name": "Python (Pyodide)",
      "language": "python"
    }
  },
  "nbformat_minor": 4,
  "nbformat": 4,
  "cells": [
    {
      "cell_type": "markdown",
      "source": "# Data Science Tools and Ecosystem",
      "metadata": {}
    },
    {
      "cell_type": "markdown",
      "source": "In this notebook, Data Science Tools and Ecosystem are summarized. Data science tools involves tools for Data Management, Data integration and transformation , Data Visualization , Model Building, Model Deployment and Model Monitoring & Assessment.",
      "metadata": {}
    },
    {
      "cell_type": "markdown",
      "source": "<h2> Author : Zia Ali </h2>",
      "metadata": {}
    },
    {
      "cell_type": "markdown",
      "source": "<b> Objectives</b>\nList popular languages for Data Science\n-  Python \n-  SQL\n-  R\n-  Julia\n-  Scala",
      "metadata": {}
    },
    {
      "cell_type": "markdown",
      "source": "Some of the popular languages that Data Scientists use are:\n1. Python\n2. R\n3. SQL \n4. Scala \n5. Java",
      "metadata": {}
    },
    {
      "cell_type": "markdown",
      "source": "Some of the commonly used libraries used by Data Scientists include:\n1. Pandas (Data structure and tools)\n2. Numpy (Arrays & Matrices)\n3. Matplotlib (Data visualization)\n4. scikit learn(used to implement machine learning models)\n5. Keras( Deep Learning models)\n",
      "metadata": {}
    },
    {
      "cell_type": "markdown",
      "source": " Data Science Tools\n 1. Hadoop( Data Management Tool)\n 2. Hue( Visualization Tool)\n 3. Jupyter lab ( for development environment)",
      "metadata": {}
    },
    {
      "cell_type": "markdown",
      "source": "Below are a few examples of evaluating arithmetic expressions in Python",
      "metadata": {}
    },
    {
      "cell_type": "code",
      "source": "(3*4)+5",
      "metadata": {
        "trusted": true
      },
      "execution_count": 6,
      "outputs": [
        {
          "execution_count": 6,
          "output_type": "execute_result",
          "data": {
            "text/plain": "17"
          },
          "metadata": {}
        }
      ]
    },
    {
      "cell_type": "code",
      "source": "#This will convert 200 minutes to hours by diving by 60\n200/60",
      "metadata": {
        "trusted": true
      },
      "execution_count": 7,
      "outputs": [
        {
          "execution_count": 7,
          "output_type": "execute_result",
          "data": {
            "text/plain": "3.3333333333333335"
          },
          "metadata": {}
        }
      ]
    }
  ]
}